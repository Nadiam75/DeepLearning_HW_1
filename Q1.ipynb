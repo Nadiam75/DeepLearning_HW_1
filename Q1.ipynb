{
  "nbformat": 4,
  "nbformat_minor": 0,
  "metadata": {
    "colab": {
      "name": "Q1.ipynb",
      "provenance": [],
      "collapsed_sections": [],
      "authorship_tag": "ABX9TyOBEnhWi2pPv23+1Ibf6ZYX",
      "include_colab_link": true
    },
    "kernelspec": {
      "name": "python3",
      "display_name": "Python 3"
    },
    "language_info": {
      "name": "python"
    }
  },
  "cells": [
    {
      "cell_type": "markdown",
      "metadata": {
        "id": "view-in-github",
        "colab_type": "text"
      },
      "source": [
        "<a href=\"https://colab.research.google.com/github/Nadiam75/DeepLearning_HW_1/blob/optimizers/Q1.ipynb\" target=\"_parent\"><img src=\"https://colab.research.google.com/assets/colab-badge.svg\" alt=\"Open In Colab\"/></a>"
      ]
    },
    {
      "cell_type": "markdown",
      "metadata": {
        "id": "OVKE_KdZSpZe"
      },
      "source": [
        "#IMPORTING LIBRARIES"
      ]
    },
    {
      "cell_type": "code",
      "metadata": {
        "id": "q5IiPREvEtlQ"
      },
      "source": [
        "import math\n",
        "import numpy as np\n",
        "import pandas as pd\n",
        "import tensorflow as tf\n",
        "import tensorflow.compat.v1 as tf # can be used in both colab and jupyter\n",
        "tf.disable_v2_behavior()\n",
        "import matplotlib.pyplot as plt\n",
        "from sklearn.model_selection import train_test_split"
      ],
      "execution_count": 98,
      "outputs": []
    },
    {
      "cell_type": "code",
      "metadata": {
        "id": "zfI_Ib8qkcKB"
      },
      "source": [
        "lettersDictionary = {0 : 'A' , 1 : 'B', 2: 'C' , 3 : 'D', 4 : 'E',5 : 'F',6 : 'G',7 : 'H',8 : 'I',9 : 'J',10 : 'K' ,11 :'L',12 : 'M',13 : \\\n",
        "                     'N',14 : 'O',15 : 'P',16 :  'Q' , 17 : 'R', 18 : 'S',19 : 'T',20 : 'U',21 : 'V',22 : 'W',23 :'X',24 : 'Y'}"
      ],
      "execution_count": 39,
      "outputs": []
    },
    {
      "cell_type": "markdown",
      "metadata": {
        "id": "fF8dJ4h3SzPT"
      },
      "source": [
        "making sure tensorflow 1.X is being used"
      ]
    },
    {
      "cell_type": "code",
      "metadata": {
        "colab": {
          "base_uri": "https://localhost:8080/"
        },
        "id": "Y-HkqhjoOs67",
        "outputId": "3f5486d6-e674-4788-ca80-ec8f00c6bf9c"
      },
      "source": [
        "print(tf.__version__)\n",
        "#  colab version of changin into tensorflow 1.X\n",
        "%tensorflow_version 1.x\n",
        "print(tf.__version__)"
      ],
      "execution_count": 36,
      "outputs": [
        {
          "output_type": "stream",
          "name": "stdout",
          "text": [
            "1.15.2\n",
            "1.15.2\n"
          ]
        }
      ]
    },
    {
      "cell_type": "markdown",
      "metadata": {
        "id": "UOcCr78rWHpp"
      },
      "source": [
        "# IMPORTING DATA"
      ]
    },
    {
      "cell_type": "code",
      "metadata": {
        "id": "e_EjDFK9FOE0"
      },
      "source": [
        "train_url = 'https://raw.githubusercontent.com/Nadiam75/DeepLearning_HW_1/master/DL2122_HW01/DL2122_HW01/Q1_train.csv'\n",
        "test_url = 'https://raw.githubusercontent.com/Nadiam75/DeepLearning_HW_1/master/DL2122_HW01/DL2122_HW01/Q1_test.csv'\n",
        "\n",
        "train = pd.read_csv(train_url , sep = ',' ) \n",
        "test = pd.read_csv(test_url , sep = ',' )\n"
      ],
      "execution_count": 62,
      "outputs": []
    },
    {
      "cell_type": "code",
      "metadata": {
        "colab": {
          "base_uri": "https://localhost:8080/"
        },
        "id": "ZQBO3cGzgMJn",
        "outputId": "fcf537b1-a522-4889-d062-70369d903bad"
      },
      "source": [
        "type(train)"
      ],
      "execution_count": 65,
      "outputs": [
        {
          "output_type": "execute_result",
          "data": {
            "text/plain": [
              "pandas.core.frame.DataFrame"
            ]
          },
          "metadata": {},
          "execution_count": 65
        }
      ]
    },
    {
      "cell_type": "markdown",
      "metadata": {
        "id": "zC6qvoLZWeTB"
      },
      "source": [
        "#DATA PREPARATION"
      ]
    },
    {
      "cell_type": "code",
      "metadata": {
        "id": "-EfsSkJ8Fnbt"
      },
      "source": [
        "# normalization \n",
        "grayScale = 255\n",
        "x_train1 = train.drop('label' , axis = 1).astype ('float32')\n",
        "x_train1 = x_train1.to_numpy()\n",
        "x_train1 /= grayScale\n",
        "y_train1 = train['label']\n",
        "y_train1 = y_train1.to_numpy()\n",
        "x_test = test.drop('label' , axis = 1).astype('float32')\n",
        "x_test = x_test.to_numpy()\n",
        "x_test /= grayScale\n",
        "y_test = test['label']\n",
        "y_test = y_test.to_numpy() \n",
        "x_train_2d = x_train1.reshape(( 27455, 28,28))\n",
        "x_test_2d = x_test.reshape((7172,28,28))\n",
        "x_train, x_validation, y_train, y_validation =\\\n",
        "train_test_split(x_train1, y_train1, test_size=0.25, random_state=1 , shuffle  = True)\n"
      ],
      "execution_count": 73,
      "outputs": []
    },
    {
      "cell_type": "code",
      "metadata": {
        "id": "jgXIDLQ8c9Ya"
      },
      "source": [
        "depth =25\n",
        "with tf.Session() as ss :\n",
        "  y_train_hot=ss.run(tf.one_hot(y_train,depth))\n",
        "  y_validation_hot=ss.run(tf.one_hot(y_validation,depth))\n",
        "  y_test_hot=ss.run(tf.one_hot(y_test,depth))\n"
      ],
      "execution_count": 77,
      "outputs": []
    },
    {
      "cell_type": "code",
      "metadata": {
        "colab": {
          "base_uri": "https://localhost:8080/",
          "height": 163
        },
        "id": "TX1n0iFAlKN_",
        "outputId": "a97d4a98-22bb-4039-856e-a26ff114c25b"
      },
      "source": [
        "\n"
      ],
      "execution_count": 89,
      "outputs": [
        {
          "output_type": "error",
          "ename": "AttributeError",
          "evalue": "ignored",
          "traceback": [
            "\u001b[0;31m---------------------------------------------------------------------------\u001b[0m",
            "\u001b[0;31mAttributeError\u001b[0m                            Traceback (most recent call last)",
            "\u001b[0;32m<ipython-input-89-3740643b7637>\u001b[0m in \u001b[0;36m<module>\u001b[0;34m()\u001b[0m\n\u001b[0;32m----> 1\u001b[0;31m \u001b[0mx_train\u001b[0m\u001b[0;34m.\u001b[0m\u001b[0mget_shape\u001b[0m\u001b[0;34m(\u001b[0m\u001b[0;34m)\u001b[0m\u001b[0;34m[\u001b[0m\u001b[0;36m1\u001b[0m\u001b[0;34m]\u001b[0m\u001b[0;34m\u001b[0m\u001b[0;34m\u001b[0m\u001b[0m\n\u001b[0m",
            "\u001b[0;31mAttributeError\u001b[0m: 'numpy.ndarray' object has no attribute 'get_shape'"
          ]
        }
      ]
    },
    {
      "cell_type": "code",
      "metadata": {
        "id": "v1P5X9GRjZma"
      },
      "source": [
        ""
      ],
      "execution_count": 88,
      "outputs": []
    },
    {
      "cell_type": "code",
      "metadata": {
        "id": "8-yOOYTyjZz5"
      },
      "source": [
        "def layer_FC (x_input, num_of_neurons  , activationFunction , name ,LayerNumber ) :\n",
        "  inputLength = x_input.get_shape()[1]\n",
        "  shape = (inputLength , num_of_neurons)\n",
        "  weights = tf.get_variable(  dtype= tf.float32, shape  = shape  , name \\\n",
        "                            = 'weights' + str (LayerNumber )  , initializer=tf.random_uniform(inputLength , num_of_neurons))\n",
        "  biases  = tf.get_variable ( dtype = tf.float32 , initializer = tf.random_uniform (num_of_neurons) , name =  'biases' + str (LayerNumber ))\n",
        "  weightedSum = tf.matmul(x_input , weights ) + biases\n",
        "  \n",
        "  if activationFunction is 'relu':\n",
        "    return tf.nnn.relu(weightedSum)\n",
        "  elif activationFunction is 'tanh':\n",
        "    return tf.nn.tanh(weightedSum)\n",
        "  elif activationFunction is 'sigmoid':\n",
        "    return tf.nn.sigmoid(weightedSum)\n",
        "  return weightedSum # otherwise consider the activation function as linear\n"
      ],
      "execution_count": 97,
      "outputs": []
    },
    {
      "cell_type": "code",
      "metadata": {
        "id": "ArdIcaQq1Cpn"
      },
      "source": [
        "x = tf.placeholder(dtype = tf.float32 , shape =  [None , 784] , name = 'x')\n",
        "y = tf.placeholder(dtype = tf.float32 , shape =  [None , 25] , name = 'y')"
      ],
      "execution_count": null,
      "outputs": []
    },
    {
      "cell_type": "code",
      "metadata": {
        "colab": {
          "base_uri": "https://localhost:8080/"
        },
        "id": "EgK__ZgjjaEp",
        "outputId": "ac3c1b74-68b3-4985-c0de-8fe0b2fd261f"
      },
      "source": [
        "lossFucntion = tf.nn.softmax_cross_entropy_with_logits(logits = y_pred , y)\n",
        "tf.train.AdamOptimizer(learning_rate= = 0.0001)\n"
      ],
      "execution_count": 95,
      "outputs": [
        {
          "output_type": "execute_result",
          "data": {
            "text/plain": [
              "False"
            ]
          },
          "metadata": {},
          "execution_count": 95
        }
      ]
    },
    {
      "cell_type": "markdown",
      "metadata": {
        "id": "ZZSc5RMRWnip"
      },
      "source": [
        "# data visualization"
      ]
    },
    {
      "cell_type": "code",
      "metadata": {
        "colab": {
          "base_uri": "https://localhost:8080/",
          "height": 292
        },
        "id": "gIyDoB7lHsd4",
        "outputId": "1da30504-38e9-42e9-acae-979060671d58"
      },
      "source": [
        "fig, axes = plt.subplots(nrows=5, ncols=5)\n",
        "fig.tight_layout()\n",
        "for i in range(25):\n",
        "  y_actual = y_train1 [i]\n",
        "  plt.subplot(5,5,i+1).set_title(lettersDictionary[y_actual])\n",
        "  plt.imshow(x_train_2d[i,:,:])\n",
        "  plt.axis('off')\n",
        "\n"
      ],
      "execution_count": 21,
      "outputs": [
        {
          "output_type": "display_data",
          "data": {
            "image/png": "[encoded data removed]",
            "text/plain": [
              "<Figure size 432x288 with 25 Axes>"
            ]
          },
          "metadata": {
            "needs_background": "light"
          }
        }
      ]
    },
    {
      "cell_type": "markdown",
      "metadata": {
        "id": "98cYeu5-KFoV"
      },
      "source": [
        "# HYPERPARAMETERS"
      ]
    },
    {
      "cell_type": "code",
      "metadata": {
        "id": "MgtNdeaUJG1K"
      },
      "source": [
        "[height,weight]=x_train.shape[1:]\n",
        "# num_class=10\n",
        "# rl=0.001\n",
        "batchsize=16\n",
        "# normal_std=0.001"
      ],
      "execution_count": null,
      "outputs": []
    },
    {
      "cell_type": "markdown",
      "metadata": {
        "id": "i9NFQTZuZVtx"
      },
      "source": [
        "#GRAPH"
      ]
    },
    {
      "cell_type": "code",
      "metadata": {
        "colab": {
          "base_uri": "https://localhost:8080/",
          "height": 231
        },
        "id": "35GJVvV5JGbF",
        "outputId": "789faf8f-8e0e-4b1d-96f7-1501441551f5"
      },
      "source": [
        "y_train_hot=tf.Session().run(tf.one_hot(y_train,10))\n",
        "y_valid_hot=tf.Session().run(tf.one_hot(y_valid,10))\n",
        "y_test_hot=tf.Session().run(tf.one_hot(y_test,10))\n",
        "tf.Session().close()\n",
        "x_train_shaffle=tf.Session().run(tf.random.shuffle(x_train, seed=12321 ))\n",
        "y_train_shaffle=tf.Session().run(tf.random.shuffle(y_train_hot, seed=12321))"
      ],
      "execution_count": 22,
      "outputs": [
        {
          "output_type": "error",
          "ename": "NameError",
          "evalue": "ignored",
          "traceback": [
            "\u001b[0;31m---------------------------------------------------------------------------\u001b[0m",
            "\u001b[0;31mNameError\u001b[0m                                 Traceback (most recent call last)",
            "\u001b[0;32m<ipython-input-22-b4b084e43f9a>\u001b[0m in \u001b[0;36m<module>\u001b[0;34m()\u001b[0m\n\u001b[1;32m      1\u001b[0m \u001b[0my_train_hot\u001b[0m\u001b[0;34m=\u001b[0m\u001b[0mtf\u001b[0m\u001b[0;34m.\u001b[0m\u001b[0mSession\u001b[0m\u001b[0;34m(\u001b[0m\u001b[0;34m)\u001b[0m\u001b[0;34m.\u001b[0m\u001b[0mrun\u001b[0m\u001b[0;34m(\u001b[0m\u001b[0mtf\u001b[0m\u001b[0;34m.\u001b[0m\u001b[0mone_hot\u001b[0m\u001b[0;34m(\u001b[0m\u001b[0my_train\u001b[0m\u001b[0;34m,\u001b[0m\u001b[0;36m10\u001b[0m\u001b[0;34m)\u001b[0m\u001b[0;34m)\u001b[0m\u001b[0;34m\u001b[0m\u001b[0;34m\u001b[0m\u001b[0m\n\u001b[0;32m----> 2\u001b[0;31m \u001b[0my_valid_hot\u001b[0m\u001b[0;34m=\u001b[0m\u001b[0mtf\u001b[0m\u001b[0;34m.\u001b[0m\u001b[0mSession\u001b[0m\u001b[0;34m(\u001b[0m\u001b[0;34m)\u001b[0m\u001b[0;34m.\u001b[0m\u001b[0mrun\u001b[0m\u001b[0;34m(\u001b[0m\u001b[0mtf\u001b[0m\u001b[0;34m.\u001b[0m\u001b[0mone_hot\u001b[0m\u001b[0;34m(\u001b[0m\u001b[0my_valid\u001b[0m\u001b[0;34m,\u001b[0m\u001b[0;36m10\u001b[0m\u001b[0;34m)\u001b[0m\u001b[0;34m)\u001b[0m\u001b[0;34m\u001b[0m\u001b[0;34m\u001b[0m\u001b[0m\n\u001b[0m\u001b[1;32m      3\u001b[0m \u001b[0my_test_hot\u001b[0m\u001b[0;34m=\u001b[0m\u001b[0mtf\u001b[0m\u001b[0;34m.\u001b[0m\u001b[0mSession\u001b[0m\u001b[0;34m(\u001b[0m\u001b[0;34m)\u001b[0m\u001b[0;34m.\u001b[0m\u001b[0mrun\u001b[0m\u001b[0;34m(\u001b[0m\u001b[0mtf\u001b[0m\u001b[0;34m.\u001b[0m\u001b[0mone_hot\u001b[0m\u001b[0;34m(\u001b[0m\u001b[0my_test\u001b[0m\u001b[0;34m,\u001b[0m\u001b[0;36m10\u001b[0m\u001b[0;34m)\u001b[0m\u001b[0;34m)\u001b[0m\u001b[0;34m\u001b[0m\u001b[0;34m\u001b[0m\u001b[0m\n\u001b[1;32m      4\u001b[0m \u001b[0mtf\u001b[0m\u001b[0;34m.\u001b[0m\u001b[0mSession\u001b[0m\u001b[0;34m(\u001b[0m\u001b[0;34m)\u001b[0m\u001b[0;34m.\u001b[0m\u001b[0mclose\u001b[0m\u001b[0;34m(\u001b[0m\u001b[0;34m)\u001b[0m\u001b[0;34m\u001b[0m\u001b[0;34m\u001b[0m\u001b[0m\n\u001b[1;32m      5\u001b[0m \u001b[0mx_train_shaffle\u001b[0m\u001b[0;34m=\u001b[0m\u001b[0mtf\u001b[0m\u001b[0;34m.\u001b[0m\u001b[0mSession\u001b[0m\u001b[0;34m(\u001b[0m\u001b[0;34m)\u001b[0m\u001b[0;34m.\u001b[0m\u001b[0mrun\u001b[0m\u001b[0;34m(\u001b[0m\u001b[0mtf\u001b[0m\u001b[0;34m.\u001b[0m\u001b[0mrandom\u001b[0m\u001b[0;34m.\u001b[0m\u001b[0mshuffle\u001b[0m\u001b[0;34m(\u001b[0m\u001b[0mx_train\u001b[0m\u001b[0;34m,\u001b[0m \u001b[0mseed\u001b[0m\u001b[0;34m=\u001b[0m\u001b[0;36m12321\u001b[0m \u001b[0;34m)\u001b[0m\u001b[0;34m)\u001b[0m\u001b[0;34m\u001b[0m\u001b[0;34m\u001b[0m\u001b[0m\n",
            "\u001b[0;31mNameError\u001b[0m: name 'y_valid' is not defined"
          ]
        }
      ]
    },
    {
      "cell_type": "markdown",
      "metadata": {
        "id": "5t9relI_QjJ1"
      },
      "source": [
        "## GRAPH"
      ]
    },
    {
      "cell_type": "code",
      "metadata": {
        "id": "RGeN072gJHSF"
      },
      "source": [
        "tf.reset_default_graph()\n",
        "tf.placeholder(dtype = tf.float32 , shape = () , name = 'input')"
      ],
      "execution_count": 13,
      "outputs": []
    },
    {
      "cell_type": "code",
      "metadata": {
        "id": "-orKE4JyJHlB"
      },
      "source": [
        "tf.reset_default_graph()\n"
      ],
      "execution_count": 34,
      "outputs": []
    },
    {
      "cell_type": "code",
      "metadata": {
        "colab": {
          "base_uri": "https://localhost:8080/"
        },
        "id": "0GSZmhHU7LkK",
        "outputId": "6ccb0e13-96b5-4d33-e45c-b89ba286ad8d"
      },
      "source": [
        "y_train_onehot=tf.Session().run(tf.one_hot(y_train,10))\n",
        "y_valid_onehot=tf.Session().run(tf.one_hot(y_validation,10))\n",
        "y_test_onehot=tf.Session().run(tf.one_hot(y_test,10))\n",
        "tf.Session().close() "
      ],
      "execution_count": null,
      "outputs": [
        {
          "output_type": "stream",
          "name": "stdout",
          "text": [
            "<class 'numpy.ndarray'>\n"
          ]
        }
      ]
    },
    {
      "cell_type": "code",
      "metadata": {
        "id": "q8Ff_bacRBzX"
      },
      "source": [
        "tf.Session().close() "
      ],
      "execution_count": 32,
      "outputs": []
    },
    {
      "cell_type": "markdown",
      "metadata": {
        "id": "Q9rNZhxFRkqL"
      },
      "source": [
        "# NEURAL NETWORK SESSION"
      ]
    },
    {
      "cell_type": "code",
      "metadata": {
        "colab": {
          "base_uri": "https://localhost:8080/",
          "height": 285
        },
        "id": "o3xmjg1DRCMf",
        "outputId": "ae80a66c-b115-4a94-8a4f-de741dc89b9c"
      },
      "source": [
        "with tf.InteractiveSession() as sess :\n",
        "  sess.run(tf.global_variables_initializer())\n",
        "  for epoch in range(0,10):\n",
        "      print('==================================================')\n",
        "      print('====== Epoch=%s =================================== ' %(epoch))\n",
        "      print('==================================================')\n",
        "      for i in range(math.floor(num_train/batchsize)):\n",
        "          f={input_image:x_train_shaffle[i*batchsize : (i+1)*batchsize] , \n",
        "            output_image:y_train_shaffle[i*batchsize : (i+1)*batchsize] }\n",
        "          sess.run(adam,feed_dict=f)\n",
        "          print('iter {}: \\t Loss={:.2f}'.format(i,sess.run(loss,feed_dict=f)))\n",
        "      f_valid={input_image:x_valid , \n",
        "              output_image:y_valid_hot}\n",
        "      print('--------------------------------------------------')\n",
        "      print('Epoch:{} \\t Validation Loss:{:.2f} '.format(epoch,sess.run(loss,feed_dict=f_valid)))\n",
        "      print('--------------------------------------------------')\n",
        "\n"
      ],
      "execution_count": 33,
      "outputs": [
        {
          "output_type": "stream",
          "name": "stderr",
          "text": [
            "/tensorflow-1.15.2/python3.7/tensorflow_core/python/client/session.py:1750: UserWarning: An interactive session is already active. This can cause out-of-memory errors in some cases. You must explicitly call `InteractiveSession.close()` to release resources held by the other session(s).\n",
            "  warnings.warn('An interactive session is already active. This can '\n"
          ]
        },
        {
          "output_type": "error",
          "ename": "AttributeError",
          "evalue": "ignored",
          "traceback": [
            "\u001b[0;31m---------------------------------------------------------------------------\u001b[0m",
            "\u001b[0;31mAttributeError\u001b[0m                            Traceback (most recent call last)",
            "\u001b[0;32m<ipython-input-33-fa3c79688ca5>\u001b[0m in \u001b[0;36m<module>\u001b[0;34m()\u001b[0m\n\u001b[0;32m----> 1\u001b[0;31m \u001b[0;32mwith\u001b[0m \u001b[0mtf\u001b[0m\u001b[0;34m.\u001b[0m\u001b[0mInteractiveSession\u001b[0m\u001b[0;34m(\u001b[0m\u001b[0;34m)\u001b[0m \u001b[0;32mas\u001b[0m \u001b[0msess\u001b[0m \u001b[0;34m:\u001b[0m\u001b[0;34m\u001b[0m\u001b[0;34m\u001b[0m\u001b[0m\n\u001b[0m\u001b[1;32m      2\u001b[0m   \u001b[0msess\u001b[0m\u001b[0;34m.\u001b[0m\u001b[0mrun\u001b[0m\u001b[0;34m(\u001b[0m\u001b[0mtf\u001b[0m\u001b[0;34m.\u001b[0m\u001b[0mglobal_variables_initializer\u001b[0m\u001b[0;34m(\u001b[0m\u001b[0;34m)\u001b[0m\u001b[0;34m)\u001b[0m\u001b[0;34m\u001b[0m\u001b[0;34m\u001b[0m\u001b[0m\n\u001b[1;32m      3\u001b[0m   \u001b[0;32mfor\u001b[0m \u001b[0mepoch\u001b[0m \u001b[0;32min\u001b[0m \u001b[0mrange\u001b[0m\u001b[0;34m(\u001b[0m\u001b[0;36m0\u001b[0m\u001b[0;34m,\u001b[0m\u001b[0;36m10\u001b[0m\u001b[0;34m)\u001b[0m\u001b[0;34m:\u001b[0m\u001b[0;34m\u001b[0m\u001b[0;34m\u001b[0m\u001b[0m\n\u001b[1;32m      4\u001b[0m       \u001b[0mprint\u001b[0m\u001b[0;34m(\u001b[0m\u001b[0;34m'=================================================='\u001b[0m\u001b[0;34m)\u001b[0m\u001b[0;34m\u001b[0m\u001b[0;34m\u001b[0m\u001b[0m\n\u001b[1;32m      5\u001b[0m       \u001b[0mprint\u001b[0m\u001b[0;34m(\u001b[0m\u001b[0;34m'====== Epoch=%s =================================== '\u001b[0m \u001b[0;34m%\u001b[0m\u001b[0;34m(\u001b[0m\u001b[0mepoch\u001b[0m\u001b[0;34m)\u001b[0m\u001b[0;34m)\u001b[0m\u001b[0;34m\u001b[0m\u001b[0;34m\u001b[0m\u001b[0m\n",
            "\u001b[0;31mAttributeError\u001b[0m: __enter__"
          ]
        }
      ]
    },
    {
      "cell_type": "code",
      "metadata": {
        "colab": {
          "base_uri": "https://localhost:8080/"
        },
        "id": "qeU_D6F6iS_l",
        "outputId": "c4f7f46c-bb10-4847-e421-31462a9b45c4"
      },
      "source": [
        "len('DGCCNQIWDDSKQWUQRNNTSVQXD')"
      ],
      "execution_count": null,
      "outputs": [
        {
          "output_type": "execute_result",
          "data": {
            "text/plain": [
              "25"
            ]
          },
          "metadata": {},
          "execution_count": 60
        }
      ]
    },
    {
      "cell_type": "code",
      "metadata": {
        "id": "4W7POWKjuqAc",
        "colab": {
          "base_uri": "https://localhost:8080/"
        },
        "outputId": "7a0546ef-c1b7-429e-c803-0377afcb1f7b"
      },
      "source": [
        ""
      ],
      "execution_count": 1,
      "outputs": [
        {
          "output_type": "stream",
          "name": "stdout",
          "text": [
            "TensorFlow 1.x selected.\n"
          ]
        }
      ]
    },
    {
      "cell_type": "code",
      "metadata": {
        "colab": {
          "base_uri": "https://localhost:8080/"
        },
        "id": "VS1oCEanHvpb",
        "outputId": "a68c6e90-5345-4831-b7b2-45088e9cb096"
      },
      "source": [
        ""
      ],
      "execution_count": 9,
      "outputs": [
        {
          "output_type": "stream",
          "name": "stdout",
          "text": [
            "1.15.2\n"
          ]
        }
      ]
    },
    {
      "cell_type": "code",
      "metadata": {
        "id": "sN-zJTpYOjPq"
      },
      "source": [
        ""
      ],
      "execution_count": null,
      "outputs": []
    }
  ]
}